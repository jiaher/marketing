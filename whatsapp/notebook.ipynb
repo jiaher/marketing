{
 "cells": [
  {
   "cell_type": "markdown",
   "id": "52f8cde1",
   "metadata": {},
   "source": [
    "# Unit test functions here."
   ]
  },
  {
   "cell_type": "markdown",
   "id": "4b5feeb2",
   "metadata": {},
   "source": [
    "# Format phone numbers\n",
    "# Format phone number to required format (+countryCode followed by number)\n",
    "# E.g. converts \"123456789"
   ]
  },
  {
   "cell_type": "code",
   "execution_count": 3,
   "id": "bed26ede",
   "metadata": {},
   "outputs": [],
   "source": [
    "def format_phone_number(phone):\n",
    "    \"\"\"\n",
    "    Format phone number to required format (+CountryCode followed by number)\n",
    "    Example: converts \"1234567890\" to \"+911234567890\" for India\n",
    "    \"\"\"\n",
    "    # Remove any non-numeric characters\n",
    "    \n",
    "    #phone = ''.join(filter(str.isdigit, str(phone)))\n",
    "    \n",
    "    # Add country code if not present\n",
    "    if not phone.startswith('+'):\n",
    "        phone = '+65' + phone  # Change country code as needed\n",
    "    \n",
    "    return phone"
   ]
  },
  {
   "cell_type": "code",
   "execution_count": 5,
   "id": "4ac49408",
   "metadata": {},
   "outputs": [
    {
     "data": {
      "text/plain": [
       "'+66865459466'"
      ]
     },
     "execution_count": 5,
     "metadata": {},
     "output_type": "execute_result"
    }
   ],
   "source": [
    "format_phone_number(\"+66865459466\")"
   ]
  }
 ],
 "metadata": {
  "kernelspec": {
   "display_name": "Python 3",
   "language": "python",
   "name": "python3"
  },
  "language_info": {
   "codemirror_mode": {
    "name": "ipython",
    "version": 3
   },
   "file_extension": ".py",
   "mimetype": "text/x-python",
   "name": "python",
   "nbconvert_exporter": "python",
   "pygments_lexer": "ipython3",
   "version": "3.13.3"
  }
 },
 "nbformat": 4,
 "nbformat_minor": 5
}
